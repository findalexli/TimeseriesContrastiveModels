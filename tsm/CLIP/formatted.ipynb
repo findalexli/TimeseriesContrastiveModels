{
 "cells": [
  {
   "cell_type": "code",
   "execution_count": 1,
   "metadata": {},
   "outputs": [
    {
     "name": "stderr",
     "output_type": "stream",
     "text": [
      "Found cached dataset parquet (/home/ubuntu/.cache/huggingface/datasets/alexshengzhili___parquet/alexshengzhili--Accel2ActivityCrawl-bccdf31cd551dca3/0.0.0/2a3b91fbd88a2c90d1dbbb32b460cf621d31bd5b05b934492fdef7d8d6f236ec)\n",
      "Loading cached processed dataset at /home/ubuntu/.cache/huggingface/datasets/alexshengzhili___parquet/alexshengzhili--Accel2ActivityCrawl-bccdf31cd551dca3/0.0.0/2a3b91fbd88a2c90d1dbbb32b460cf621d31bd5b05b934492fdef7d8d6f236ec/cache-832bd0094fdcc361_*_of_00030.arrow\n"
     ]
    }
   ],
   "source": [
    "import torch\n",
    "from datasets import load_dataset\n",
    "dataset = load_dataset('alexshengzhili/Accel2ActivityCrawl', split='capture24_30hz_w10_o0_unfileterd_rawlabel').with_format(\"torch\")\n",
    "max_length = 300\n",
    "\n",
    "def process_single_example(example):\n",
    "    x_value = example['x']\n",
    "\n",
    "    if x_value.shape[0] > max_length:\n",
    "        x_value = x_value[:max_length]\n",
    "    elif x_value.shape[0] < max_length:\n",
    "        padding = torch.zeros((max_length - x_value.shape[0], 3))\n",
    "        x_value = torch.cat([x_value, padding], dim=0)\n",
    "    example['x'] = x_value\n",
    "    return example\n",
    "\n",
    "formated_dataset = dataset.map(process_single_example, num_proc=30)\n"
   ]
  },
  {
   "cell_type": "code",
   "execution_count": 17,
   "metadata": {},
   "outputs": [
    {
     "data": {
      "application/vnd.jupyter.widget-view+json": {
       "model_id": "7c429b8122ff4a0cbaabbffd969b80e5",
       "version_major": 2,
       "version_minor": 0
      },
      "text/plain": [
       "Filter (num_proc=50):   0%|          | 0/1372784 [00:00<?, ? examples/s]"
      ]
     },
     "metadata": {},
     "output_type": "display_data"
    }
   ],
   "source": [
    "non_sleep_filer = formated_dataset.filter(lambda example: 'sleeping' not in example['y'], num_proc=50)"
   ]
  },
  {
   "cell_type": "code",
   "execution_count": 16,
   "metadata": {},
   "outputs": [
    {
     "data": {
      "text/plain": [
       "340076"
      ]
     },
     "execution_count": 16,
     "metadata": {},
     "output_type": "execute_result"
    }
   ],
   "source": [
    "len(non_sleep_filer)"
   ]
  },
  {
   "cell_type": "code",
   "execution_count": 20,
   "metadata": {},
   "outputs": [],
   "source": [
    "label_list = non_sleep_filer['y']"
   ]
  },
  {
   "cell_type": "code",
   "execution_count": 21,
   "metadata": {},
   "outputs": [
    {
     "data": {
      "text/plain": [
       "Counter({'': 463249,\n",
       "         'home activity;miscellaneous;walking;17150 walking household without observable loads;MET 2.0': 22226,\n",
       "         'home activity;household chores;preparing meals/cooking/washing dishes;5035 kitchen activity general cooking/washing/dishes/cleaning up;MET 3.3': 39634,\n",
       "         'home activity;eating;13030 eating sitting alone or with someone;MET 1.5': 11692,\n",
       "         'home activity;miscellaneous;standing;9070 standing reading or without observable/identifiable activities;MET 1.8': 3251,\n",
       "         'home activity;self care;13020 dressing/undressing;MET 2.5': 290,\n",
       "         'transportation;walking;17270 walking as the single means to work or class (not from);MET 3.5': 3131,\n",
       "         'occupation;interruption;11791 walking on job in office or lab area;MET 2.0': 5176,\n",
       "         'occupation;interruption;sitting;9055 sitting using a mobile phone/smartphone/tablet or talking on the phone/computer (skype meeting etc.);MET 1.5': 970,\n",
       "         'occupation;office and administrative support;11580 office wok/computer work general;MET 1.5': 35391,\n",
       "         'occupation;interruption;5041 kitchen activity in the working place;MET 1.8': 923,\n",
       "         'occupation;interruption;13030 eating sitting;MET 1.5': 2260,\n",
       "         'occupation;interruption;11585 sitting meeting/talking to colleages with or without eating;MET 1.5': 7134,\n",
       "         'occupation;interruption;11795 walking on job and carrying light objects such as boxes or pushing trolleys;MET 3.5': 2401,\n",
       "         'occupation;interruption;standing;9070 standing reading or without observable/identifiable activities;MET 1.8': 1242,\n",
       "         'transportation;walking;17250 walking as the single means to a destination not to work or class;MET 3.0': 13930,\n",
       "         'home activity;miscellaneous;sitting;11580 office work such as writing and typing (with or without eating at the same time);MET 1.5': 13609,\n",
       "         'home activity;miscellaneous;sitting;5080 sitting non-desk work (with or without eating at the same time);MET 1.3': 9777,\n",
       "         'home activity;miscellaneous;sitting;9055 sitting/lying talking in person/using a mobile phone/smartphone/tablet or talking on the phone/computer (skype chatting);MET 1.5': 15234,\n",
       "         'home activity;miscellaneous;standing;9050 standing talking in person/on the phone/computer (skype chatting) or using a mobile phone/smartphone/tablet;MET 1.8': 4035,\n",
       "         'home activity;miscellaneous;sitting;9060 sitting/lying reading or without observable/identifiable activities;MET 1.3': 36422,\n",
       "         'home activity;miscellaneous;walking;5147 walking moving away light items (pens/papers/keys not included);MET 3.0': 2415,\n",
       "         'home activity;household chores;washing/ironing/mending clothes;5090 folding or hanging clothes/put clothes in or out of washer or dryer/packing suitcase limited walking;MET 2.0': 3266,\n",
       "         'home activity;miscellaneous;standing;9020 standing writing/drawing/painting;MET 1.8': 1068,\n",
       "         'home activity;miscellaneous;sitting;11580 office/computer work general;MET 1.5': 22437,\n",
       "         'home activity;household chores;house cleaning;MET 2.5': 210,\n",
       "         'home activity;household chores;washing/ironing/mending clothes;5095 putting away /gathering clothes involving walking;MET 2.3': 787,\n",
       "         'home activity;self care;13040 (generic) self care such as grooming/washing hands/shaving/brushing teeth/putting on make-up not eliminating and bathing (not necessary in the toilet);MET 2.0': 3437,\n",
       "         'home activity;miscellaneous;standing;9071 (generic) standing miscellaneous;MET 2.5': 1448,\n",
       "         'transportation;private transportation;16010 driving automobile or light truck (not a semi);MET 2.5': 20394,\n",
       "         'leisure;miscellaneous;standing;9050 standing talking in person/using a phone/smartphone/tablet;MET 1.8': 2695,\n",
       "         'leisure;sports;miscellaneous;17082 hiking or walking at a normal pace through fields and hillsides;MET 5.0': 1664,\n",
       "         'leisure;miscellaneous;standing;9071 (generic) standing miscellaneous;MET 2.5': 1288,\n",
       "         'leisure;miscellaneous;walking;21070 (generic) walking and occasional standing (no more than two consecutive images);MET 2.5': 4539,\n",
       "         'leisure;eating;social;13030 eating sitting indoor/outdoor;MET 1.5': 5635,\n",
       "         'sports/gym;MET 5.5': 371,\n",
       "         'home activity;miscellaneous;standing;5146 standing packing/unpacking household items occasional lifting;MET 3.5': 575,\n",
       "         'leisure;miscellaneous;walking;5060 shopping miscellaneous;MET 2.3': 7922,\n",
       "         'leisure;miscellaneous;walking;17031 loading /unloading a car implied walking;MET 3.5': 254,\n",
       "         'leisure;miscellaneous;sitting;9055 sitting talking to person/using the phone;MET 1.5': 4344,\n",
       "         'leisure;miscellaneous;sitting;9060 (generic) sitting/lying reading or without observable/identifiable activities;MET 1.3': 8443,\n",
       "         'home activity;miscellaneous;5025 (generic) multiple household tasks all at once including standing/lifting/sitting;MET 2.8': 794,\n",
       "         'home activity;miscellaneous;sitting;9030 sitting desk entertainment/hobby (with or without eating at the same time);MET 1.3': 11470,\n",
       "         'home activity;miscellaneous;sitting;7010 sitting/lying and watching television with TV on as the primary activity;MET 1.0': 16946,\n",
       "         'leisure;miscellaneous;walking;17070 descending stairs;MET 3.5': 4,\n",
       "         'sitting;sitstand+lowactivity;MET 1.5': 87,\n",
       "         'home activity;household chores;house cleaning;miscellaneous;5100 making bed/changing linens;MET 3.3': 500,\n",
       "         'home activity;miscellaneous;walking;5165 (generic) walking non-cleaning task such as closing windows lock door putting away items;MET 3.5': 876,\n",
       "         'occupation;office and administrative support;11580 office/computer work general;MET 1.5': 57297,\n",
       "         'transportation;walking;17161 walking not as the single means of transports e.g.from house to transports or vice versa/from car to places or vice versa/between transports;MET 2.5': 9246,\n",
       "         'occupation;interruption;sitting;9060 sitting without observable/identifiable activities;MET 1.3': 5363,\n",
       "         'occupation;interruption;walking;11791 walking on job in office or lab area;MET 2.0': 5131,\n",
       "         'occupation;interruption;sitting;11585 sitting meeting/talking to colleagues with or without eating;MET 1.5': 13907,\n",
       "         'home activity;self care;13009 toilet eliminating or squatting;MET 1.8': 163,\n",
       "         'home activity;leisure;activities for maintenance of a household;miscellaneous;9100 retreat/family reunion activities involving sitting eating relaxing talking with more than one person;MET 1.8': 6828,\n",
       "         'leisure;miscellaneous;sitting;21016 sitting child care only active periods;MET 2.0': 109,\n",
       "         'home activity;miscellaneous;sitting;9030  sitting desk work (with or without eating at the same time);MET 1.3': 4415,\n",
       "         'transportation;waiting;7040 standing in a line;MET 1.3': 1452,\n",
       "         'transportation;public transportation;16016 riding in a bus or train;MET 1.3': 8215,\n",
       "         'occupation;interruption;miscellaneous;13009 toilet break;MET 1.8': 191,\n",
       "         'standing;sitstand+activity;social;MET 2.5': 428,\n",
       "         'leisure;miscellaneous;standing;9070 standing reading or without observable/identifiable activities;MET 1.8': 1393,\n",
       "         'leisure;miscellaneous;21005 (generic) sitting light office writing typing work;MET 1.5': 356,\n",
       "         'leisure;miscellaneous;21000 sitting meeting or talking with others;MET 1.5': 47,\n",
       "         'leisure;miscellaneous;5060 shopping miscellaneous;MET 2.3': 2468,\n",
       "         'home activity;miscellaneous;standing;9050 standing talking in person on the phone/computer (skype chatting) or using a mobileo phone/smartphone/tablet;MET 1.8': 352,\n",
       "         'home activity;household chores;grocery shopping;5060 shopping;MET 2.3': 1709,\n",
       "         'leisure;eating;not-social;5060 buying foods or drinks as a takeaway;MET 2.3': 152,\n",
       "         'occupation;interruption;standing;9050 standing talking in person/using a phone/smartphone/tablet;MET 1.8': 3737,\n",
       "         'sitting;sitstand+lowactivity;screen;MET 1.0': 2040,\n",
       "         'transportation;private transportation;1010 bicycling;MET 4.0': 8811,\n",
       "         'home activity;miscellaneous;sitting;9060 sitting/lying reading or without observable activities;MET 1.3': 6350,\n",
       "         'transportation;waiting;7021 sitting;MET 1.3': 532,\n",
       "         'home activity;eating;13035 eating standing alone or with others;MET 2.0': 435,\n",
       "         'transportation;walking;9050 standing miscellaneous (talking to others etc.);MET 1.8': 646,\n",
       "         'occupation;interruption;standing;9071 (generic) standing miscellaneous;MET 2.5': 434,\n",
       "         'occupation;interruption;standing;9020 standing writing/drawing/painting;MET 1.8': 223,\n",
       "         'occupation;interruption;sitting;13030 eating sitting;MET 1.5': 1836,\n",
       "         'sitting;sitstand+activity;social;MET 1.8': 6152,\n",
       "         'home activity;self care;13045 hairstyling standing;MET 2.5': 138,\n",
       "         'home activity;household chores;preparing meals/cooking/washing dishes;5035 cleaning up table after meal implied walking (e.g. leaving from eating table to the kitchen);MET 3.3': 241,\n",
       "         'manual-work;sitstand+activity;MET 5.0': 1413,\n",
       "         'leisure;miscellaneous;walking;17133 walking upstairs;MET 4.0': 11,\n",
       "         'manual-work;sitstand+activity;MET 2.0': 698,\n",
       "         'home activity;leisure;activities for maintenance of a household;with children;5170 sitting playing with child(ren);MET 2.2': 250,\n",
       "         'manual-work;sitstand+activity;MET 1.5': 131,\n",
       "         'home activity;miscellaneous;sitting;9030 sitting desk work (with or without eating at the same time);MET 1.3': 1741,\n",
       "         'home activity;miscellaneous;walking;5121 walking with moving and lifting loads such as bikes and furniture;MET 4.0': 492,\n",
       "         'manual-work;walking+activity;MET 3.8': 538,\n",
       "         'leisure;eating;13035 eating standing indoor/outdoor;MET 2.0': 71,\n",
       "         'leisure;miscellaneous;standing;9070 standing reading or without obvious activities;MET 1.8': 128,\n",
       "         'home activity;miscellaneous;sitting;7021 sitting without observable activities;MET 1.3': 8,\n",
       "         'leisure;eating;13030 eating sitting indoor/outdoor;MET 1.5': 2643,\n",
       "         'occupation;miscellaneous;11475 (generic) manual labour;MET 2.8': 2401,\n",
       "         'transportation;private transportation;16015 riding in a car or truck;MET 1.3': 3605,\n",
       "         'home activity;leisure;activties for maintenance of a household;miscellaneous;9100 retreat/family reunion activities involving sitting eating relaxing talking with more than one person;MET 1.8': 4986,\n",
       "         'occupation;interruption;13009 toilet break;MET 1.8': 119,\n",
       "         'home activity;child/elderly/pet care;child care;5185 child care sitting/kneeling occasional lifting;MET 2.0': 1419,\n",
       "         'home activity;miscellaneous;standing;5146 standing packing/unpaking household items occational lifting;MET 3.5': 106,\n",
       "         'household-chores;sitstand+activity;MET 2.5': 5212,\n",
       "         'manual-work;sitstand+activity;MET 3.0': 255,\n",
       "         'home activity;miscellaneous;standing;9070 standing reading or without obvious activities;MET 1.8': 722,\n",
       "         'occupation;interruption;9050 standing talking in persone/using a phone/smartphone/tablet;MET 1.8': 887,\n",
       "         'mixed-activity;sitstand+activity;MET 2.0': 1282,\n",
       "         'leisure;sports;gymnasium and athletics;athletics;12150 running;MET 8.0': 724,\n",
       "         'occupation;interruption;standing;9015 standing scanning documents;MET 1.5': 499,\n",
       "         'home activity;household chores;washing/ironing/mending clothes;5070 ironing;MET 1.8': 2692,\n",
       "         'transportation;walking;9071 standing miscellaneous (talking to others etc.);MET 2.5': 34,\n",
       "         'sports/gym;MET 5.0': 588,\n",
       "         'home activity;self care;13000 getting ready for bed standing;MET 2.3': 56,\n",
       "         'occupation;interruption;9060 (generic) sitting without observable activities;MET 1.3': 230,\n",
       "         'occupation;interruption;miscellaneous;5041 kitchen activity in the working place;MET 1.8': 682,\n",
       "         'occupation;office and administrative support;11600 (generic) standing tasks such as store clerk/librarian/packing boxes/repair heavy parts;MET 3.0': 404,\n",
       "         'leisure;miscellaneous;sitting;21005 (generic) sitting light office writing typing work;MET 1.5': 767,\n",
       "         'leisure;miscellaneous;sitting;9060 (generic) sitting/lying reading or without observable activities;MET 1.3': 558,\n",
       "         'walking;MET 3.0': 2661,\n",
       "         'sitting;sitstand+activity;MET 1.8': 1437,\n",
       "         'home activity;leisure;mixed-activity;walking+activity;MET 3.0': 143,\n",
       "         'occupation;office and administrative support;11580 office work/computer work general;MET 1.5': 605,\n",
       "         'home activity;child/elderly/pet care;child care;5186 child care standing occasional lifting;MET 3.0': 247,\n",
       "         'home activity;miscellaneous;sitting;21010 sitting non-desk work (with or without eating at the same time);MET 2.5': 209,\n",
       "         'home activity;child/elderly/pet care;MET 2.3': 229,\n",
       "         'home activity;leisure;activties for maintenance of a household;with children;5170 sitting playing with child(ren);MET 2.2': 302,\n",
       "         'occupation;interruption;9070 standing reading or without obvious activities;MET 1.8': 100,\n",
       "         'occupation;interruption;9015 standing scanning documents;MET 1.5': 110,\n",
       "         'occupation;interruption;9070 standing reading or without observable/identifiable activities;MET 1.8': 287,\n",
       "         'sports/gym;MET 6.0': 780,\n",
       "         'manual-work;sitstand+activity;MET 5.5': 439,\n",
       "         'home activity;household chores;house cleaning;furniture;5020 cleaning heavy such as car/windows/garage;MET 3.5': 168,\n",
       "         'leisure;eating;not-social;13035 eating standing indoor/outdoor;MET 2.0': 13,\n",
       "         'sitting;sitstand+lowactivity;MET 1.3': 486,\n",
       "         'leisure;miscellaneous;sitting;5080 sitting non-desk work (with or without eating at the same time);MET 1.3': 142,\n",
       "         'household-chores;sitstand+activity;MET 4.0': 34,\n",
       "         'leisure;recreation;outdoor;5175 walking/running playing with child(ren);MET 3.5': 125,\n",
       "         'leisure;recreation;outdoor;5171 standing playing with child(ren);MET 2.8': 272,\n",
       "         'home activity;household chores;preparing meals/cooking/washing dishes;5051 serving food/setting table implied walking and standing;MET 2.5': 153,\n",
       "         'leisure;miscellaneous;standing;9020 standing writing/drawing/painting;MET 1.8': 110,\n",
       "         'home activity;household chores;house cleaning;furniture;5032 dusting or polishing furniture;MET 2.3': 517,\n",
       "         'home activity;child/elderly/pet care;pet care;MET 2.5': 105,\n",
       "         'home activity;household chores;house cleaning;floors;5131 scrubbing floors on hands and knees scrubbing bathroom bathtub;MET 2.0': 172,\n",
       "         'home activity;household chores;house cleaning;floors;5010 cleaning sweeping carpet or floors;MET 3.3': 320,\n",
       "         'manual-work;walking+activity;MET 3.5': 597,\n",
       "         'occupation;miscellaneous;11615 (generic) standing lifting items continuously with limited walking;MET 4.5': 247,\n",
       "         'manual-work;walking+activity;MET 5.5': 336,\n",
       "         'occupation;interruption;standing;13035 eating standing;MET 2.0': 174,\n",
       "         'occupation;interruption;9055 sitting using a mobile phone/smartphone/tablet or talking on the phone/computer (skype meeting etc.);MET 1.5': 359,\n",
       "         'home activity;leisure;activties for maintenance of a household;9100 retreat/family reunion activities involving sitting eating relaxing talking with more than one person;MET 1.8': 113,\n",
       "         'home activity;miscellaneous;sitting;7010 lying and watching television with TV on as the primary activity;MET 1.0': 578,\n",
       "         'home activity;leisure;activties for maintenance of a household;5170 sitting playing with child(ren);MET 2.2': 101,\n",
       "         'home activity;child/elderly/pet care;child care;5185 child care sitting/kneeling;MET 2.0': 216,\n",
       "         'mixed-activity;sitstand+activity;MET 2.5': 919,\n",
       "         'sports/gym;MET 8.5': 221,\n",
       "         'leisure;miscellaneous;9071 (generic) standing miscellaneous indoor or outdoor;MET 2.5': 73,\n",
       "         'occupation;interruption;9060 sitting using a mobile phone/smartphone/tablet or talking on the phone/computer (skype meeting etc.);MET 1.3': 19,\n",
       "         'occupation;interruption;13035 eating standing;MET 2.0': 242,\n",
       "         'leisure;miscellaneous;21010 sitting non-desk work (with or without eating at the same time);MET 2.5': 28,\n",
       "         'sports/gym;MET 7.0': 126,\n",
       "         'occupation;interruption;11585 sitting meeting/talking to colleagues with or without eating;MET 1.5': 452,\n",
       "         'standing;sitstand+activity;social;MET 1.8': 10,\n",
       "         'home activity;child/elderly/pet care;child care;5183 standing holding child;MET 2.0': 102,\n",
       "         'household-chores;sitstand+lowactivity;MET 1.3': 1232,\n",
       "         'leisure;eating;5060 buying foods or drinks as a takeaway;MET 2.3': 14,\n",
       "         'home activity;miscellaneous;sitting;9060 sitting reading or using a mobile phone/smartphone/tablet or talking on the phone/computer (skype chatting);MET 1.3': 24,\n",
       "         'home activity;miscellaneous;sitting;7021 sitting without observable actiivties;MET 1.3': 329,\n",
       "         'home activity;child/elderly/pet care;child care;5181 walking and carrying child;MET 3.0': 208,\n",
       "         'sports/gym;MET 2.5': 619,\n",
       "         'transportation;walking;12150 running;MET 8.0': 14,\n",
       "         'leisure;miscellaneous;21017 standing child care only active periods;MET 3.0': 91,\n",
       "         'vehicle;MET 2.8': 106,\n",
       "         'leisure;miscellaneous;sitting;21000 sitting meeting;MET 1.5': 902,\n",
       "         'leisure;eating;social;13035 eating standing indoor/outdoor;MET 2.0': 183,\n",
       "         'sports/gym;MET 9.0': 45,\n",
       "         'sports/gym;MET 2.8': 64,\n",
       "         'leisure;eating;not-social;13030 eating sitting indoor/outdoor;MET 1.5': 231,\n",
       "         'leisure;eating;social;5060 buying foods or drinks as a takeaway;MET 2.3': 71,\n",
       "         'home activity;leisure;activities for maintenance of a household;miscellaneous;9101 retreat/family reunion activities playing games with more than one person;MET 3.0': 119,\n",
       "         'sports/gym;MET 8.0': 362,\n",
       "         'sports/gym;MET 3.5': 849,\n",
       "         'home activity;child/elderly/pet care;child care;5185 child care sitting/kneeling  occasional lifting;MET 2.0': 21,\n",
       "         'occupation;interruption;9020 standing writing/drawing/painting;MET 1.8': 25,\n",
       "         'occupation;office and administrative support;11600 (generic) standing tasks such as store clerk/libarian/packing boxes/repair heavy parts;MET 3.0': 3342,\n",
       "         'occupation;interruption;walking;17133 walking upstairs;MET 4.0': 3,\n",
       "         'occupation;interruption;walking;17070 walking downstairs;MET 3.5': 7,\n",
       "         'occupation;miscellaneous;11475 (generic) manual or unskilled labour;MET 2.8': 168,\n",
       "         'sports/gym;MET 5.3': 121,\n",
       "         'occupation;interruption;17133 walking upstairs;MET 4.0': 21,\n",
       "         'occupation;interruption;walking;11795 walking on job and carrying light objects such as boxes or pushing trolleys;MET 3.5': 159,\n",
       "         'leisure;miscellaneous;21070 (generic) walking/standing combination indoor;MET 3.0': 4,\n",
       "         'leisure;miscellaneous;17031 loading /unloading a car implied walking;MET 3.5': 11,\n",
       "         'occupation;interruption;standing;9050 standing talking in persone/using a phone/smartphone/tablet;MET 1.8': 63,\n",
       "         'mixed-activity;walking+activity;MET 2.0': 88,\n",
       "         'leisure;miscellaneous;standing;21017 standing child care only active periods;MET 3.0': 45,\n",
       "         'manual-work;MET 8.0': 9,\n",
       "         'carrying heavy loads;MET 8.0': 8,\n",
       "         'mixed-activity;MET 4.5': 69,\n",
       "         'vehicle;MET 1.3': 2060,\n",
       "         'household-chores;walking+activity;MET 3.0': 1821,\n",
       "         'standing;sitstand+activity;MET 2.0': 37,\n",
       "         'occupation;interruption;9060 (generic) sitting without observable/identifiable activities;MET 1.3': 96,\n",
       "         'manual-work;walking+activity;MET 3.0': 408,\n",
       "         'sports/gym;MET 3.0': 319,\n",
       "         'home activity;household chores;house cleaning;floors;5140 sweeping garage sidewalk or outside of house;MET 4.0': 8,\n",
       "         'home activity;leisure;sitting;sitstand+activity;MET 2.5': 9,\n",
       "         'household-chores;sitstand+activity;social;MET 4.5': 219,\n",
       "         'household-chores;sitstand+lowactivity;MET 2.8': 20,\n",
       "         'leisure;miscellaneous;21016 sitting child care only active periods;MET 2.0': 10})"
      ]
     },
     "execution_count": 21,
     "metadata": {},
     "output_type": "execute_result"
    }
   ],
   "source": [
    "from collections import Counter\n",
    "Counter(label_list)"
   ]
  },
  {
   "cell_type": "code",
   "execution_count": 23,
   "metadata": {},
   "outputs": [
    {
     "data": {
      "application/vnd.jupyter.widget-view+json": {
       "model_id": "3e8fc31c4d79489cac320c0427c80065",
       "version_major": 2,
       "version_minor": 0
      },
      "text/plain": [
       "Filter (num_proc=50):   0%|          | 0/1032708 [00:00<?, ? examples/s]"
      ]
     },
     "metadata": {},
     "output_type": "display_data"
    }
   ],
   "source": [
    "non_empty = non_sleep_filer.filter(lambda example: len(example['y']) > 1, num_proc=50)"
   ]
  },
  {
   "cell_type": "code",
   "execution_count": 26,
   "metadata": {},
   "outputs": [
    {
     "data": {
      "application/vnd.jupyter.widget-view+json": {
       "model_id": "238f8b18df124a3991813553c1443cc3",
       "version_major": 2,
       "version_minor": 0
      },
      "text/plain": [
       "Flattening the indices (num_proc=40):   0%|          | 0/569459 [00:00<?, ? examples/s]"
      ]
     },
     "metadata": {},
     "output_type": "display_data"
    },
    {
     "data": {
      "application/vnd.jupyter.widget-view+json": {
       "model_id": "5395a26e83e64bc8b9f716d82571a3f0",
       "version_major": 2,
       "version_minor": 0
      },
      "text/plain": [
       "Saving the dataset (0/40 shards):   0%|          | 0/569459 [00:00<?, ? examples/s]"
      ]
     },
     "metadata": {},
     "output_type": "display_data"
    }
   ],
   "source": [
    "non_empty.save_to_disk('capture24_30hz_w10_o0_unfileterd_rawlabel_non_empty_non_sleep', num_proc=40)"
   ]
  },
  {
   "cell_type": "code",
   "execution_count": 27,
   "metadata": {},
   "outputs": [
    {
     "data": {
      "application/vnd.jupyter.widget-view+json": {
       "model_id": "c426301d7eef45859c3aaeb299de584c",
       "version_major": 2,
       "version_minor": 0
      },
      "text/plain": [
       "Map (num_proc=50):   0%|          | 0/569459 [00:00<?, ? examples/s]"
      ]
     },
     "metadata": {},
     "output_type": "display_data"
    }
   ],
   "source": [
    "\n",
    "import pandas as pd\n",
    "\n",
    "ANNOLABELFILE = '/home/ubuntu/ssl-wearables/data/capture24/annotation-label-dictionary.csv'\n",
    "LABEL = 'label:Walmsley2020'\n",
    "annolabel = pd.read_csv(ANNOLABELFILE, index_col='annotation')\n",
    "def apply_annotation_conversion(example):\n",
    "    ''' Convert annotation to label '''\n",
    "    example['converted_y'] = annolabel.loc[example['y'], LABEL]\n",
    "    return example\n",
    "\n",
    "converted_y = non_empty.map(apply_annotation_conversion, num_proc=50)"
   ]
  },
  {
   "cell_type": "code",
   "execution_count": 28,
   "metadata": {},
   "outputs": [
    {
     "data": {
      "text/plain": [
       "Counter({'light': 165245, 'sedentary': 360547, 'moderate-vigorous': 43667})"
      ]
     },
     "execution_count": 28,
     "metadata": {},
     "output_type": "execute_result"
    }
   ],
   "source": [
    "Counter(converted_y['converted_y'])"
   ]
  },
  {
   "cell_type": "code",
   "execution_count": 29,
   "metadata": {},
   "outputs": [
    {
     "data": {
      "application/vnd.jupyter.widget-view+json": {
       "model_id": "bc08be67f0d04bbb892d998ea9456485",
       "version_major": 2,
       "version_minor": 0
      },
      "text/plain": [
       "Saving the dataset (0/40 shards):   0%|          | 0/569459 [00:00<?, ? examples/s]"
      ]
     },
     "metadata": {},
     "output_type": "display_data"
    }
   ],
   "source": [
    "converted_y.save_to_disk('capture24_30hz_w10_o0_unfileterd_converted_y_non_empty_non_sleep', num_proc=40)"
   ]
  },
  {
   "cell_type": "code",
   "execution_count": 30,
   "metadata": {},
   "outputs": [
    {
     "data": {
      "text/plain": [
       "Dataset({\n",
       "    features: ['x', 'pid', 'y', 'converted_y'],\n",
       "    num_rows: 569459\n",
       "})"
      ]
     },
     "execution_count": 30,
     "metadata": {},
     "output_type": "execute_result"
    }
   ],
   "source": [
    "converted_y"
   ]
  },
  {
   "cell_type": "code",
   "execution_count": null,
   "metadata": {},
   "outputs": [],
   "source": []
  }
 ],
 "metadata": {
  "kernelspec": {
   "display_name": "new_pytorch",
   "language": "python",
   "name": "python3"
  },
  "language_info": {
   "codemirror_mode": {
    "name": "ipython",
    "version": 3
   },
   "file_extension": ".py",
   "mimetype": "text/x-python",
   "name": "python",
   "nbconvert_exporter": "python",
   "pygments_lexer": "ipython3",
   "version": "3.10.9"
  },
  "orig_nbformat": 4
 },
 "nbformat": 4,
 "nbformat_minor": 2
}
