{
 "cells": [
  {
   "cell_type": "code",
   "execution_count": 8,
   "metadata": {},
   "outputs": [
    {
     "name": "stderr",
     "output_type": "stream",
     "text": [
      "Using cache found in /home/ubuntu/.cache/torch/hub/OxWearables_ssl-wearables_main\n"
     ]
    },
    {
     "name": "stdout",
     "output_type": "stream",
     "text": [
      "131 Weights loaded\n"
     ]
    },
    {
     "data": {
      "text/plain": [
       "tensor([[ -4.5437,  -1.5983,   2.4221,  -7.4274,  -3.6942],\n",
       "        [  1.3324,  11.3241,  10.0199,  -2.6737,   0.0392],\n",
       "        [-12.9311,   5.2238,   9.1370,   1.9780,  -3.0108],\n",
       "        [ -4.6167,   5.6736,   5.3371,  -7.0281,  16.7227]],\n",
       "       grad_fn=<AddmmBackward0>)"
      ]
     },
     "execution_count": 8,
     "metadata": {},
     "output_type": "execute_result"
    }
   ],
   "source": [
    "import torch\n",
    "import numpy as np\n",
    "\n",
    "repo = 'OxWearables/ssl-wearables'\n",
    "\n",
    "\n",
    "harnet10 = torch.hub.load(repo, 'harnet10', class_num=5, pretrained=True)\n",
    "\n",
    "batch_size = 4\n",
    "seq_len = 300\n",
    "num_features = 3\n",
    "dummy_data = torch.randn(batch_size, num_features, seq_len)\n",
    "\n",
    "\n",
    "x = np.random.rand(1, 3, 300)\n",
    "x = torch.FloatTensor(x)\n",
    "harnet10(x)\n",
    "\n",
    "harnet10(dummy_data)"
   ]
  },
  {
   "cell_type": "code",
   "execution_count": 6,
   "metadata": {},
   "outputs": [
    {
     "data": {
      "text/plain": [
       "torch.Size([1, 1024])"
      ]
     },
     "execution_count": 6,
     "metadata": {},
     "output_type": "execute_result"
    }
   ],
   "source": [
    "torch.squeeze(harnet10.feature_extractor(x), -1).shape"
   ]
  },
  {
   "cell_type": "code",
   "execution_count": null,
   "metadata": {},
   "outputs": [],
   "source": []
  }
 ],
 "metadata": {
  "kernelspec": {
   "display_name": "new_pytorch",
   "language": "python",
   "name": "python3"
  },
  "language_info": {
   "codemirror_mode": {
    "name": "ipython",
    "version": 3
   },
   "file_extension": ".py",
   "mimetype": "text/x-python",
   "name": "python",
   "nbconvert_exporter": "python",
   "pygments_lexer": "ipython3",
   "version": "3.10.9"
  },
  "orig_nbformat": 4
 },
 "nbformat": 4,
 "nbformat_minor": 2
}
